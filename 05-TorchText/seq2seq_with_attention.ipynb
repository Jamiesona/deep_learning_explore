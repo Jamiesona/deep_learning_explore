{
 "cells": [
  {
   "cell_type": "code",
   "execution_count": 47,
   "metadata": {},
   "outputs": [],
   "source": [
    "%matplotlib inline\n",
    "import torch\n",
    "import torch.nn as nn\n",
    "import torch.optim as optim\n",
    "import matplotlib.pyplot as plt"
   ]
  },
  {
   "cell_type": "markdown",
   "metadata": {},
   "source": [
    "## Encoder模型定义"
   ]
  },
  {
   "cell_type": "code",
   "execution_count": 75,
   "metadata": {},
   "outputs": [],
   "source": [
    "class Encoder(nn.Module):\n",
    "    def __init__(self, embed_size, vocab_size, enc_hidden_size, dec_hidden_size):\n",
    "        '''构造方法.\n",
    "        Args:\n",
    "            embed_size: 词向量维度\n",
    "            vocab_size: 词典大小\n",
    "            enc_hidden_size: Encoder的隐藏状态维度\n",
    "            dec_hidden_size: Decoder的隐藏状态维度\n",
    "        '''\n",
    "        super().__init__()\n",
    "        self.embed = nn.Embedding(vocab_size, embed_size)\n",
    "        self.rnn = nn.GRU(embed_size, enc_hidden_size)\n",
    "        self.linear = nn.Linear(enc_hidden_size, dec_hidden_size)\n",
    "        \n",
    "    def forward(self, input_seq):\n",
    "        '''前向传播.\n",
    "        Args:\n",
    "            input_seq: 输入序列, shape (N, batch_size)\n",
    "        Returns:\n",
    "            encoder_outputs: 每个时间步的输出(N, batch_size, enc_hidden_size)\n",
    "            last_hidden: 最后一个时间步的输出(1, batch_size, dec_hidden_size)\n",
    "        '''\n",
    "        # 判断是否有batch_size维度\n",
    "        if input_seq.dim() < 2:\n",
    "            input_seq = input_seq.view(-1, 1)\n",
    "        # 保证序列长度至少为2\n",
    "        if len(input_seq) < 2:\n",
    "            input_seq = input_seq.repeat(2, 1)\n",
    "        embed = self.embed(input_seq)\n",
    "        encoder_outputs, last_hidden = self.rnn(embed)\n",
    "        last_hidden = torch.tanh(self.linear(last_hidden))\n",
    "        return encoder_outputs, last_hidden"
   ]
  },
  {
   "cell_type": "markdown",
   "metadata": {},
   "source": [
    "### 测试Encoder"
   ]
  },
  {
   "cell_type": "code",
   "execution_count": 76,
   "metadata": {},
   "outputs": [
    {
     "name": "stdout",
     "output_type": "stream",
     "text": [
      "cuda\n"
     ]
    }
   ],
   "source": [
    "VOCAB_SIZE = 100\n",
    "EMBED_SIZE = 20\n",
    "ENC_HIDDEN_SIZE = 30\n",
    "DEC_HIDDEN_SIZE = 40\n",
    "ATT_SIZE = 30\n",
    "\n",
    "SEQ_LEN = 10\n",
    "BATCH_SIZE = 3\n",
    "\n",
    "CUDA = torch.device('cuda' if torch.cuda.is_available() else 'cpu')\n",
    "print(CUDA)"
   ]
  },
  {
   "cell_type": "markdown",
   "metadata": {},
   "source": [
    "## Attention模型定义"
   ]
  },
  {
   "cell_type": "code",
   "execution_count": 77,
   "metadata": {},
   "outputs": [],
   "source": [
    "class Attention(nn.Module):\n",
    "    def __init__(self, enc_hidden_size, dec_hidden_size, att_size):\n",
    "        '''构造方法.\n",
    "        Args:\n",
    "            enc_hidden_size:\n",
    "            dec_hidden_size:\n",
    "            att_size:\n",
    "        '''\n",
    "        super().__init__()\n",
    "        self.linear_1 = nn.Linear(enc_hidden_size, att_size)\n",
    "        self.linear_2 = nn.Linear(dec_hidden_size, att_size)\n",
    "        \n",
    "    def forward(self, encoder_outputs, decoder_hidden):\n",
    "        # 首先将二者变换到att_size\n",
    "        query = self.linear_1(encoder_outputs)\n",
    "        key = self.linear_2(decoder_hidden)\n",
    "        scores = torch.softmax((key * query).sum(dim=2), dim=0) #(N, batch_size)\n",
    "        \n",
    "        # (1, batch_size, enc_hidden_size)\n",
    "        weighted_val = (scores.unsqueeze(2) * encoder_outputs).sum(dim=0, keepdim=True)\n",
    "        \n",
    "        return weighted_val, scores"
   ]
  },
  {
   "cell_type": "markdown",
   "metadata": {},
   "source": [
    "## Decoder模型定义"
   ]
  },
  {
   "cell_type": "code",
   "execution_count": 79,
   "metadata": {},
   "outputs": [],
   "source": [
    "class Decoder(nn.Module):\n",
    "    def __init__(self, embed_size, vocab_size, dec_hidden_size, enc_hidden_size, att_size):\n",
    "        '''构造方法.\n",
    "        Args:\n",
    "            embed_size:\n",
    "            vocab_size:\n",
    "            dec_hidden_size:\n",
    "            enc_hidden_size:\n",
    "            att_size:\n",
    "        '''\n",
    "        super().__init__()\n",
    "        self.dec_hidden_size = dec_hidden_size\n",
    "        self.embed = nn.Embedding(vocab_size, embed_size)\n",
    "        self.rnn = nn.GRU(embed_size+enc_hidden_size, dec_hidden_size)\n",
    "        self.att = Attention(enc_hidden_size, dec_hidden_size, att_size)\n",
    "        self.linear = nn.Linear(dec_hidden_size, vocab_size)\n",
    "        \n",
    "    def forward(self, tgt_seq, encoder_outputs, hidden):\n",
    "        # 判断是否有batch_size维度\n",
    "        if tgt_seq.dim() < 2:\n",
    "            tgt_seq = tgt_seq.view(-1, 1)\n",
    "        # 保证序列长度至少为2\n",
    "        if len(tgt_seq) < 2:\n",
    "            tgt_seq = tgt_seq.repeat(2, 1)\n",
    "        embed = self.embed(tgt_seq) #(N, batch_size, embed_size)\n",
    "        max_len, batch_size = embed.shape[0], embed.shape[1]\n",
    "        \n",
    "        tgt_seq_hat = torch.zeros(max_len, embed.shape[1], self.dec_hidden_size, device=CUDA)\n",
    "        att_scores = torch.zeros(max_len, encoder_outputs.shape[0], embed.shape[1], device=CUDA)\n",
    "        \n",
    "        for idx in range(1, max_len):\n",
    "            weight_val, scores = self.att(encoder_outputs, hidden) #(1, batch_size, enc_hidden_size)\n",
    "            rnn_input = torch.cat((embed[idx-1:idx], weight_val), dim=2)\n",
    "            decoder_output, hidden = self.rnn(rnn_input, hidden)\n",
    "            tgt_seq_hat[idx] = decoder_output\n",
    "            att_scores[idx] = scores\n",
    "            \n",
    "        tgt_seq_hat = torch.tanh(self.linear(tgt_seq_hat))\n",
    "        return tgt_seq_hat, hidden, att_scores"
   ]
  },
  {
   "cell_type": "markdown",
   "metadata": {},
   "source": [
    "## Seq2Seq模型定义"
   ]
  },
  {
   "cell_type": "code",
   "execution_count": 80,
   "metadata": {},
   "outputs": [],
   "source": [
    "class Seq2Seq(nn.Module):\n",
    "    def __init__(self, enc:Encoder, dec:Decoder):\n",
    "        super().__init__()\n",
    "        self.enc = enc\n",
    "        self.dec = dec\n",
    "        \n",
    "    def forward(self, src_seq, tgt_seq):\n",
    "        encoder_outputs, last_hidden = self.enc(src_seq)\n",
    "        tgt_seq_hat, _, att_scores = self.dec(tgt_seq, encoder_outputs, last_hidden)\n",
    "        return tgt_seq_hat, att_scores"
   ]
  },
  {
   "cell_type": "code",
   "execution_count": 81,
   "metadata": {},
   "outputs": [
    {
     "data": {
      "text/plain": [
       "Seq2Seq(\n",
       "  (enc): Encoder(\n",
       "    (embed): Embedding(100, 20)\n",
       "    (rnn): GRU(20, 30)\n",
       "    (linear): Linear(in_features=30, out_features=40, bias=True)\n",
       "  )\n",
       "  (dec): Decoder(\n",
       "    (embed): Embedding(100, 20)\n",
       "    (rnn): GRU(50, 40)\n",
       "    (att): Attention(\n",
       "      (linear_1): Linear(in_features=30, out_features=30, bias=True)\n",
       "      (linear_2): Linear(in_features=40, out_features=30, bias=True)\n",
       "    )\n",
       "    (linear): Linear(in_features=40, out_features=100, bias=True)\n",
       "  )\n",
       ")"
      ]
     },
     "execution_count": 81,
     "metadata": {},
     "output_type": "execute_result"
    }
   ],
   "source": [
    "enc = Encoder(EMBED_SIZE, VOCAB_SIZE, ENC_HIDDEN_SIZE, DEC_HIDDEN_SIZE)\n",
    "dec = Decoder(EMBED_SIZE, VOCAB_SIZE, DEC_HIDDEN_SIZE, ENC_HIDDEN_SIZE, ATT_SIZE)\n",
    "\n",
    "seq2seq = Seq2Seq(enc, dec)\n",
    "\n",
    "x = torch.empty(50, 10, 3, dtype=torch.long, device=CUDA).random_(VOCAB_SIZE)\n",
    "y = torch.empty(50, 7, 3, dtype=torch.long, device=CUDA).random_(VOCAB_SIZE)\n",
    "\n",
    "seq2seq.to(CUDA)"
   ]
  },
  {
   "cell_type": "code",
   "execution_count": 109,
   "metadata": {},
   "outputs": [],
   "source": [
    "def train_model(seq2seq, x, y, epochs=10, lr=0.01):\n",
    "    seq2seq.train()\n",
    "    criterion = nn.CrossEntropyLoss()\n",
    "    trainer = optim.Adam(seq2seq.parameters(), lr=lr)\n",
    "    n = len(x)\n",
    "    losses = torch.zeros(epochs)\n",
    "    for idx in range(epochs):\n",
    "        for xx, yy in zip(x, y):\n",
    "            yy_hat, _ = seq2seq(xx, yy)\n",
    "            yy_hat = yy_hat.transpose(1, 2)\n",
    "            loss = criterion(yy_hat[1:], yy[1:])\n",
    "            loss.backward()\n",
    "            trainer.step()\n",
    "            trainer.zero_grad()\n",
    "            losses[idx] += loss.cpu().detach().item()\n",
    "            \n",
    "    return losses/n"
   ]
  },
  {
   "cell_type": "code",
   "execution_count": 117,
   "metadata": {},
   "outputs": [],
   "source": [
    "losses = train_model(seq2seq, x, y, 20, 0.001)"
   ]
  },
  {
   "cell_type": "code",
   "execution_count": 118,
   "metadata": {},
   "outputs": [
    {
     "data": {
      "image/png": "[encoded data removed]",
      "text/plain": [
       "<Figure size 432x288 with 1 Axes>"
      ]
     },
     "metadata": {
      "needs_background": "light"
     },
     "output_type": "display_data"
    }
   ],
   "source": [
    "plt.plot(losses, 'r--')\n",
    "plt.show()"
   ]
  },
  {
   "cell_type": "code",
   "execution_count": 102,
   "metadata": {},
   "outputs": [],
   "source": [
    "def translate(enc, dec, input_seq, sos_token, max_len, tgt_vocab_size):\n",
    "    enc.eval()\n",
    "    dec.eval()\n",
    "    \n",
    "    with torch.no_grad():\n",
    "        encoder_outputs, hidden = enc(input_seq)\n",
    "        batch_size = encoder_outputs.shape[1]\n",
    "        outs = torch.zeros(max_len, batch_size, tgt_vocab_size, device=CUDA)\n",
    "        att_scores = torch.zeros(max_len, encoder_outputs.shape[0], batch_size, device=CUDA)\n",
    "        decoder_input = sos_token\n",
    "\n",
    "        for idx in range(max_len):\n",
    "            decoder_output, hidden, att_score = dec(decoder_input, encoder_outputs, hidden)\n",
    "            att_scores[idx] = att_score[-1]\n",
    "            outs[idx] = decoder_output[-1]\n",
    "            decoder_input = torch.argmax(outs[idx:idx+1], dim=2)\n",
    "        \n",
    "    return torch.argmax(outs, dim=2), att_scores"
   ]
  },
  {
   "cell_type": "code",
   "execution_count": 147,
   "metadata": {},
   "outputs": [
    {
     "name": "stdout",
     "output_type": "stream",
     "text": [
      "tensor([28, 92, 93,  7, 79, 99, 32, 31, 50,  8], device='cuda:0') tensor([28, 53, 24, 24, 35, 85, 76], device='cuda:0')\n"
     ]
    }
   ],
   "source": [
    "print(x[1, :, 2], y[1, :, 2])"
   ]
  },
  {
   "cell_type": "code",
   "execution_count": 148,
   "metadata": {},
   "outputs": [],
   "source": [
    "outs, scores = translate(enc, dec, x[1, :, 2], y[1, 0, 2], 6, VOCAB_SIZE)"
   ]
  },
  {
   "cell_type": "code",
   "execution_count": 149,
   "metadata": {},
   "outputs": [
    {
     "name": "stdout",
     "output_type": "stream",
     "text": [
      "tensor([53, 24, 80, 88, 97, 38], device='cuda:0')\n"
     ]
    }
   ],
   "source": [
    "print(outs.squeeze())"
   ]
  },
  {
   "cell_type": "code",
   "execution_count": 150,
   "metadata": {},
   "outputs": [
    {
     "data": {
      "text/plain": [
       "torch.Size([6, 10, 1])"
      ]
     },
     "execution_count": 150,
     "metadata": {},
     "output_type": "execute_result"
    }
   ],
   "source": [
    "scores.shape"
   ]
  },
  {
   "cell_type": "code",
   "execution_count": 151,
   "metadata": {},
   "outputs": [
    {
     "data": {
      "image/png": "[encoded data removed]",
      "text/plain": [
       "<Figure size 432x288 with 1 Axes>"
      ]
     },
     "metadata": {
      "needs_background": "light"
     },
     "output_type": "display_data"
    }
   ],
   "source": [
    "plt.imshow(scores[:, :, 0].cpu())\n",
    "plt.show()"
   ]
  },
  {
   "cell_type": "code",
   "execution_count": null,
   "metadata": {},
   "outputs": [],
   "source": []
  }
 ],
 "metadata": {
  "kernelspec": {
   "display_name": "Python 3",
   "language": "python",
   "name": "python3"
  },
  "language_info": {
   "codemirror_mode": {
    "name": "ipython",
    "version": 3
   },
   "file_extension": ".py",
   "mimetype": "text/x-python",
   "name": "python",
   "nbconvert_exporter": "python",
   "pygments_lexer": "ipython3",
   "version": "3.7.4"
  }
 },
 "nbformat": 4,
 "nbformat_minor": 4
}
